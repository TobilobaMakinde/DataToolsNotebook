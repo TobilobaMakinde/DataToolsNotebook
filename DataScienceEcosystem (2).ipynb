{
 "cells": [
  {
   "cell_type": "markdown",
   "id": "32d7fb5a",
   "metadata": {},
   "source": [
    "# Data Science Tools and Ecosystem"
   ]
  },
  {
   "cell_type": "markdown",
   "id": "f4527ea7",
   "metadata": {},
   "source": [
    "In this notebook, Data Science Tools and Ecosystem are summarized."
   ]
  },
  {
   "cell_type": "markdown",
   "id": "db5f6a94",
   "metadata": {},
   "source": [
    "Some of the popular languages that Data Scientists use are:"
   ]
  },
  {
   "cell_type": "markdown",
   "id": "7f0da457",
   "metadata": {},
   "source": [
    "\n",
    "- Python\n",
    "- R\n",
    "- SQL\n",
    "- Scala\n",
    "- Java\n",
    "- Julia\n",
    "- C++\n",
    "- Java Script"
   ]
  },
  {
   "cell_type": "markdown",
   "id": "ccd4fab4",
   "metadata": {},
   "source": [
    "Some of the commonly used libraries used by Data Scientists include:"
   ]
  },
  {
   "cell_type": "markdown",
   "id": "5f67e11d",
   "metadata": {},
   "source": [
    "* Python Libraries\n",
    "* Visualization libraries (Matplot lib and Seaborn)\n",
    "* Machine learning and Deep learning libraries (Scikit-learn and Keras)\n",
    "* Deep learning libraries (Tensor Flow and PyTorch)\n",
    "* Apache Spark\n",
    "* R libraries"
   ]
  },
  {
   "cell_type": "markdown",
   "id": "b909e23b",
   "metadata": {},
   "source": [
    "|Data Science Tools|\n",
    "|------------------|\n",
    "|My SQL & Post SQL|\n",
    "|Hadoop|\n",
    "|MongoDB|"
   ]
  },
  {
   "cell_type": "markdown",
   "id": "d658ca02",
   "metadata": {},
   "source": [
    "### Below are a few examples of evaluating arithmetic expressions in Python"
   ]
  },
  {
   "cell_type": "markdown",
   "id": "dacb398d",
   "metadata": {},
   "source": [
    "This a simple arithmetic expression to mutiply then add integers."
   ]
  },
  {
   "cell_type": "code",
   "execution_count": 3,
   "id": "6454688c",
   "metadata": {},
   "outputs": [
    {
     "data": {
      "text/plain": [
       "17"
      ]
     },
     "execution_count": 3,
     "metadata": {},
     "output_type": "execute_result"
    }
   ],
   "source": [
    "(3*4)+5"
   ]
  },
  {
   "cell_type": "markdown",
   "id": "d3d7a5d7",
   "metadata": {},
   "source": [
    " This will convert 200 minutes to hours by diving by 60."
   ]
  },
  {
   "cell_type": "code",
   "execution_count": 5,
   "id": "1ccf2c45",
   "metadata": {},
   "outputs": [
    {
     "name": "stdout",
     "output_type": "stream",
     "text": [
      "200 minutes is equal to 3.3333333333333335 hours\n"
     ]
    }
   ],
   "source": [
    "# Define the number of minutes\n",
    "minutes = 200\n",
    "\n",
    "# Convert minutes to hours\n",
    "hours = minutes / 60\n",
    "\n",
    "# Print the result\n",
    "print(f\"{minutes} minutes is equal to {hours} hours\")\n"
   ]
  },
  {
   "cell_type": "markdown",
   "id": "b5e2e80a",
   "metadata": {},
   "source": [
    "Objectives:"
   ]
  },
  {
   "cell_type": "markdown",
   "id": "adbe5a78",
   "metadata": {},
   "source": [
    "* Open source tools for data science\n",
    "* Languages of Data science\n",
    "* Libraries for Data science\n",
    "* Jupyter Notebooks and Jupyter lab\n",
    "* Introduction to R and R studio\n",
    "* GITHUB"
   ]
  },
  {
   "cell_type": "markdown",
   "id": "f7fa3bb4",
   "metadata": {},
   "source": [
    "## Author\n",
    "Makinde Esther Oluwatobi"
   ]
  },
  {
   "cell_type": "code",
   "execution_count": null,
   "id": "ea4c2f3c",
   "metadata": {},
   "outputs": [],
   "source": []
  }
 ],
 "metadata": {
  "kernelspec": {
   "display_name": "Python 3 (ipykernel)",
   "language": "python",
   "name": "python3"
  },
  "language_info": {
   "codemirror_mode": {
    "name": "ipython",
    "version": 3
   },
   "file_extension": ".py",
   "mimetype": "text/x-python",
   "name": "python",
   "nbconvert_exporter": "python",
   "pygments_lexer": "ipython3",
   "version": "3.11.4"
  }
 },
 "nbformat": 4,
 "nbformat_minor": 5
}
